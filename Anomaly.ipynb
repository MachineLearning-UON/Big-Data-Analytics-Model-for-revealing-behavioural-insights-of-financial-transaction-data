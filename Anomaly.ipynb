{
 "cells": [
  {
   "cell_type": "code",
   "execution_count": 1,
   "id": "faee295d",
   "metadata": {},
   "outputs": [],
   "source": [
    "import numpy as np \n",
    "import matplotlib.pyplot as plt\n",
    "import seaborn as sns\n",
    "import pandas as pd\n",
    "\n",
    "import warnings\n",
    "warnings.filterwarnings('ignore')"
   ]
  },
  {
   "cell_type": "code",
   "execution_count": 2,
   "id": "42b09936",
   "metadata": {},
   "outputs": [],
   "source": [
    "df=pd.read_excel('Book3.xlsx')"
   ]
  },
  {
   "cell_type": "code",
   "execution_count": 3,
   "id": "86efd138",
   "metadata": {},
   "outputs": [
    {
     "data": {
      "text/html": [
       "<div>\n",
       "<style scoped>\n",
       "    .dataframe tbody tr th:only-of-type {\n",
       "        vertical-align: middle;\n",
       "    }\n",
       "\n",
       "    .dataframe tbody tr th {\n",
       "        vertical-align: top;\n",
       "    }\n",
       "\n",
       "    .dataframe thead th {\n",
       "        text-align: right;\n",
       "    }\n",
       "</style>\n",
       "<table border=\"1\" class=\"dataframe\">\n",
       "  <thead>\n",
       "    <tr style=\"text-align: right;\">\n",
       "      <th></th>\n",
       "      <th>id</th>\n",
       "      <th>trans_type</th>\n",
       "      <th>trans_ref</th>\n",
       "      <th>status</th>\n",
       "      <th>ppan</th>\n",
       "      <th>cts</th>\n",
       "      <th>bsb</th>\n",
       "      <th>account_no</th>\n",
       "      <th>indicator</th>\n",
       "      <th>trans_code</th>\n",
       "      <th>...</th>\n",
       "      <th>remitter_name</th>\n",
       "      <th>withhold_tax_amount</th>\n",
       "      <th>trans_data_id</th>\n",
       "      <th>stan</th>\n",
       "      <th>post_date</th>\n",
       "      <th>approval_code</th>\n",
       "      <th>hold_number</th>\n",
       "      <th>exchange_rate</th>\n",
       "      <th>ext_trans_no</th>\n",
       "      <th>error_msg</th>\n",
       "    </tr>\n",
       "  </thead>\n",
       "  <tbody>\n",
       "    <tr>\n",
       "      <th>0</th>\n",
       "      <td>107070</td>\n",
       "      <td>Credit purchase</td>\n",
       "      <td>107069</td>\n",
       "      <td>SUCCESS</td>\n",
       "      <td>482003SUYTIR3399</td>\n",
       "      <td>2021-05-17</td>\n",
       "      <td>NaN</td>\n",
       "      <td>NaN</td>\n",
       "      <td>NaN</td>\n",
       "      <td>206</td>\n",
       "      <td>...</td>\n",
       "      <td>NaN</td>\n",
       "      <td>NaN</td>\n",
       "      <td>106741.0</td>\n",
       "      <td>NaN</td>\n",
       "      <td>2021-07-08</td>\n",
       "      <td>713314</td>\n",
       "      <td>NaN</td>\n",
       "      <td>1.0</td>\n",
       "      <td>NaN</td>\n",
       "      <td>NaN</td>\n",
       "    </tr>\n",
       "    <tr>\n",
       "      <th>1</th>\n",
       "      <td>107069</td>\n",
       "      <td>Credit purchase</td>\n",
       "      <td>107068</td>\n",
       "      <td>SUCCESS</td>\n",
       "      <td>482003SUYTIR3399</td>\n",
       "      <td>2021-05-17</td>\n",
       "      <td>NaN</td>\n",
       "      <td>NaN</td>\n",
       "      <td>NaN</td>\n",
       "      <td>206</td>\n",
       "      <td>...</td>\n",
       "      <td>NaN</td>\n",
       "      <td>NaN</td>\n",
       "      <td>106740.0</td>\n",
       "      <td>NaN</td>\n",
       "      <td>2021-07-08</td>\n",
       "      <td>713314</td>\n",
       "      <td>NaN</td>\n",
       "      <td>1.0</td>\n",
       "      <td>NaN</td>\n",
       "      <td>NaN</td>\n",
       "    </tr>\n",
       "    <tr>\n",
       "      <th>2</th>\n",
       "      <td>107068</td>\n",
       "      <td>Credit purchase</td>\n",
       "      <td>107067</td>\n",
       "      <td>SUCCESS</td>\n",
       "      <td>482003SUYTIR3399</td>\n",
       "      <td>2021-05-17</td>\n",
       "      <td>NaN</td>\n",
       "      <td>NaN</td>\n",
       "      <td>NaN</td>\n",
       "      <td>206</td>\n",
       "      <td>...</td>\n",
       "      <td>NaN</td>\n",
       "      <td>NaN</td>\n",
       "      <td>106739.0</td>\n",
       "      <td>NaN</td>\n",
       "      <td>2021-07-08</td>\n",
       "      <td>713314</td>\n",
       "      <td>NaN</td>\n",
       "      <td>1.0</td>\n",
       "      <td>NaN</td>\n",
       "      <td>NaN</td>\n",
       "    </tr>\n",
       "    <tr>\n",
       "      <th>3</th>\n",
       "      <td>107067</td>\n",
       "      <td>Credit purchase</td>\n",
       "      <td>107066</td>\n",
       "      <td>SUCCESS</td>\n",
       "      <td>482003SUYTIR3399</td>\n",
       "      <td>2021-05-17</td>\n",
       "      <td>NaN</td>\n",
       "      <td>NaN</td>\n",
       "      <td>NaN</td>\n",
       "      <td>206</td>\n",
       "      <td>...</td>\n",
       "      <td>NaN</td>\n",
       "      <td>NaN</td>\n",
       "      <td>106738.0</td>\n",
       "      <td>NaN</td>\n",
       "      <td>2021-07-08</td>\n",
       "      <td>713314</td>\n",
       "      <td>NaN</td>\n",
       "      <td>1.0</td>\n",
       "      <td>NaN</td>\n",
       "      <td>NaN</td>\n",
       "    </tr>\n",
       "    <tr>\n",
       "      <th>4</th>\n",
       "      <td>105259</td>\n",
       "      <td>Purchase</td>\n",
       "      <td>105258</td>\n",
       "      <td>SUCCESS</td>\n",
       "      <td>482003VGLNRQ6502</td>\n",
       "      <td>2021-06-30</td>\n",
       "      <td>NaN</td>\n",
       "      <td>NaN</td>\n",
       "      <td>NaN</td>\n",
       "      <td>205</td>\n",
       "      <td>...</td>\n",
       "      <td>NaN</td>\n",
       "      <td>NaN</td>\n",
       "      <td>104942.0</td>\n",
       "      <td>NaN</td>\n",
       "      <td>2021-07-02</td>\n",
       "      <td>282186</td>\n",
       "      <td>958574586.0</td>\n",
       "      <td>1.0</td>\n",
       "      <td>NaN</td>\n",
       "      <td>NaN</td>\n",
       "    </tr>\n",
       "  </tbody>\n",
       "</table>\n",
       "<p>5 rows × 26 columns</p>\n",
       "</div>"
      ],
      "text/plain": [
       "       id       trans_type  trans_ref   status              ppan        cts  \\\n",
       "0  107070  Credit purchase     107069  SUCCESS  482003SUYTIR3399 2021-05-17   \n",
       "1  107069  Credit purchase     107068  SUCCESS  482003SUYTIR3399 2021-05-17   \n",
       "2  107068  Credit purchase     107067  SUCCESS  482003SUYTIR3399 2021-05-17   \n",
       "3  107067  Credit purchase     107066  SUCCESS  482003SUYTIR3399 2021-05-17   \n",
       "4  105259         Purchase     105258  SUCCESS  482003VGLNRQ6502 2021-06-30   \n",
       "\n",
       "   bsb account_no  indicator trans_code  ... remitter_name  \\\n",
       "0  NaN        NaN        NaN        206  ...           NaN   \n",
       "1  NaN        NaN        NaN        206  ...           NaN   \n",
       "2  NaN        NaN        NaN        206  ...           NaN   \n",
       "3  NaN        NaN        NaN        206  ...           NaN   \n",
       "4  NaN        NaN        NaN        205  ...           NaN   \n",
       "\n",
       "   withhold_tax_amount trans_data_id stan  post_date  approval_code  \\\n",
       "0                  NaN      106741.0  NaN 2021-07-08         713314   \n",
       "1                  NaN      106740.0  NaN 2021-07-08         713314   \n",
       "2                  NaN      106739.0  NaN 2021-07-08         713314   \n",
       "3                  NaN      106738.0  NaN 2021-07-08         713314   \n",
       "4                  NaN      104942.0  NaN 2021-07-02         282186   \n",
       "\n",
       "   hold_number  exchange_rate  ext_trans_no  error_msg  \n",
       "0          NaN            1.0           NaN        NaN  \n",
       "1          NaN            1.0           NaN        NaN  \n",
       "2          NaN            1.0           NaN        NaN  \n",
       "3          NaN            1.0           NaN        NaN  \n",
       "4  958574586.0            1.0           NaN        NaN  \n",
       "\n",
       "[5 rows x 26 columns]"
      ]
     },
     "execution_count": 3,
     "metadata": {},
     "output_type": "execute_result"
    }
   ],
   "source": [
    "df.head()"
   ]
  },
  {
   "cell_type": "code",
   "execution_count": 4,
   "id": "9e5e115a",
   "metadata": {
    "colab": {
     "base_uri": "https://localhost:8080/"
    },
    "id": "2r368khdeHz6",
    "outputId": "0aeb4de3-acf2-4629-8a10-01bf733ea362"
   },
   "outputs": [
    {
     "data": {
      "text/plain": [
       "(94229, 26)"
      ]
     },
     "execution_count": 4,
     "metadata": {},
     "output_type": "execute_result"
    }
   ],
   "source": [
    "df.shape"
   ]
  },
  {
   "cell_type": "code",
   "execution_count": 5,
   "id": "f86af4d1",
   "metadata": {
    "colab": {
     "base_uri": "https://localhost:8080/"
    },
    "id": "ffiloYMseQHq",
    "outputId": "b8c70f92-7ded-4fb4-de76-7e56aafaafaf"
   },
   "outputs": [
    {
     "data": {
      "text/plain": [
       "id                              int64\n",
       "trans_type                     object\n",
       "trans_ref                       int64\n",
       "status                         object\n",
       "ppan                           object\n",
       "cts                    datetime64[ns]\n",
       "bsb                            object\n",
       "account_no                     object\n",
       "indicator                     float64\n",
       "trans_code                     object\n",
       "currency                       object\n",
       "amount                        float64\n",
       "description                    object\n",
       "lodgement_ref                  object\n",
       "remitter_bsb                   object\n",
       "remitter_account_no           float64\n",
       "remitter_name                  object\n",
       "withhold_tax_amount           float64\n",
       "trans_data_id                 float64\n",
       "stan                          float64\n",
       "post_date              datetime64[ns]\n",
       "approval_code                  object\n",
       "hold_number                   float64\n",
       "exchange_rate                 float64\n",
       "ext_trans_no                   object\n",
       "error_msg                      object\n",
       "dtype: object"
      ]
     },
     "execution_count": 5,
     "metadata": {},
     "output_type": "execute_result"
    }
   ],
   "source": [
    "df.dtypes"
   ]
  },
  {
   "cell_type": "code",
   "execution_count": 6,
   "id": "214095fa",
   "metadata": {
    "colab": {
     "base_uri": "https://localhost:8080/"
    },
    "id": "_NIT0VjOkEyI",
    "outputId": "6596a4d0-171d-40d9-e07e-029da1b3a786",
    "scrolled": true
   },
   "outputs": [
    {
     "data": {
      "text/plain": [
       "Index(['id', 'trans_type', 'trans_ref', 'status', 'ppan', 'cts', 'bsb',\n",
       "       'account_no', 'indicator', 'trans_code', 'currency', 'amount',\n",
       "       'description', 'lodgement_ref', 'remitter_bsb', 'remitter_account_no',\n",
       "       'remitter_name', 'withhold_tax_amount', 'trans_data_id', 'stan',\n",
       "       'post_date', 'approval_code', 'hold_number', 'exchange_rate',\n",
       "       'ext_trans_no', 'error_msg'],\n",
       "      dtype='object')"
      ]
     },
     "execution_count": 6,
     "metadata": {},
     "output_type": "execute_result"
    }
   ],
   "source": [
    "df.columns"
   ]
  },
  {
   "cell_type": "code",
   "execution_count": 7,
   "id": "210cc197",
   "metadata": {
    "colab": {
     "base_uri": "https://localhost:8080/",
     "height": 619
    },
    "id": "eUoSgRpceSoy",
    "outputId": "9787e387-6170-4967-bc78-469e3849f0e4",
    "scrolled": true
   },
   "outputs": [
    {
     "data": {
      "text/plain": [
       "<AxesSubplot:>"
      ]
     },
     "execution_count": 7,
     "metadata": {},
     "output_type": "execute_result"
    },
    {
     "data": {
      "image/png": "[encoded data removed]",
      "text/plain": [
       "<Figure size 1800x720 with 3 Axes>"
      ]
     },
     "metadata": {
      "needs_background": "light"
     },
     "output_type": "display_data"
    }
   ],
   "source": [
    "import missingno as msno\n",
    "msno.bar(df)"
   ]
  },
  {
   "cell_type": "code",
   "execution_count": 8,
   "id": "f9d9d52a",
   "metadata": {
    "colab": {
     "base_uri": "https://localhost:8080/"
    },
    "id": "HNDljncLiCIK",
    "outputId": "b073ce7e-1511-4113-96d4-14e010ab2770"
   },
   "outputs": [
    {
     "data": {
      "text/plain": [
       "id                         0\n",
       "trans_type                 0\n",
       "trans_ref                  0\n",
       "status                     0\n",
       "ppan                      27\n",
       "cts                        0\n",
       "bsb                    81150\n",
       "account_no             80249\n",
       "indicator              94229\n",
       "trans_code               737\n",
       "currency                   0\n",
       "amount                     0\n",
       "description             7203\n",
       "lodgement_ref           1888\n",
       "remitter_bsb           80838\n",
       "remitter_account_no    80833\n",
       "remitter_name          80839\n",
       "withhold_tax_amount    81732\n",
       "trans_data_id            351\n",
       "stan                   93724\n",
       "post_date              13599\n",
       "approval_code          14009\n",
       "hold_number            17752\n",
       "exchange_rate          14493\n",
       "ext_trans_no           80698\n",
       "error_msg              93991\n",
       "dtype: int64"
      ]
     },
     "execution_count": 8,
     "metadata": {},
     "output_type": "execute_result"
    }
   ],
   "source": [
    "df.isnull().sum()"
   ]
  },
  {
   "cell_type": "code",
   "execution_count": 9,
   "id": "57238758",
   "metadata": {},
   "outputs": [],
   "source": [
    "df=df.drop(['id','bsb','account_no','indicator', 'remitter_bsb', 'remitter_account_no','withhold_tax_amount',\n",
    "       'remitter_name', 'trans_data_id', 'stan',\n",
    "       'ext_trans_no', 'error_msg'], axis = 1)"
   ]
  },
  {
   "cell_type": "code",
   "execution_count": 10,
   "id": "a6a62d51",
   "metadata": {},
   "outputs": [
    {
     "data": {
      "text/html": [
       "<div>\n",
       "<style scoped>\n",
       "    .dataframe tbody tr th:only-of-type {\n",
       "        vertical-align: middle;\n",
       "    }\n",
       "\n",
       "    .dataframe tbody tr th {\n",
       "        vertical-align: top;\n",
       "    }\n",
       "\n",
       "    .dataframe thead th {\n",
       "        text-align: right;\n",
       "    }\n",
       "</style>\n",
       "<table border=\"1\" class=\"dataframe\">\n",
       "  <thead>\n",
       "    <tr style=\"text-align: right;\">\n",
       "      <th></th>\n",
       "      <th>trans_type</th>\n",
       "      <th>trans_ref</th>\n",
       "      <th>status</th>\n",
       "      <th>ppan</th>\n",
       "      <th>cts</th>\n",
       "      <th>trans_code</th>\n",
       "      <th>currency</th>\n",
       "      <th>amount</th>\n",
       "      <th>description</th>\n",
       "      <th>lodgement_ref</th>\n",
       "      <th>post_date</th>\n",
       "      <th>approval_code</th>\n",
       "      <th>hold_number</th>\n",
       "      <th>exchange_rate</th>\n",
       "    </tr>\n",
       "  </thead>\n",
       "  <tbody>\n",
       "    <tr>\n",
       "      <th>0</th>\n",
       "      <td>Credit purchase</td>\n",
       "      <td>107069</td>\n",
       "      <td>SUCCESS</td>\n",
       "      <td>482003SUYTIR3399</td>\n",
       "      <td>2021-05-17</td>\n",
       "      <td>206</td>\n",
       "      <td>AUD</td>\n",
       "      <td>251.0</td>\n",
       "      <td>NEXT DIRECTORY           \\INTERNET     \\GB</td>\n",
       "      <td>74697691189920000901120.0</td>\n",
       "      <td>2021-07-08</td>\n",
       "      <td>713314</td>\n",
       "      <td>NaN</td>\n",
       "      <td>1.0</td>\n",
       "    </tr>\n",
       "    <tr>\n",
       "      <th>1</th>\n",
       "      <td>Credit purchase</td>\n",
       "      <td>107068</td>\n",
       "      <td>SUCCESS</td>\n",
       "      <td>482003SUYTIR3399</td>\n",
       "      <td>2021-05-17</td>\n",
       "      <td>206</td>\n",
       "      <td>AUD</td>\n",
       "      <td>251.0</td>\n",
       "      <td>NEXT DIRECTORY           \\INTERNET     \\GB</td>\n",
       "      <td>74697691189920000901120.0</td>\n",
       "      <td>2021-07-08</td>\n",
       "      <td>713314</td>\n",
       "      <td>NaN</td>\n",
       "      <td>1.0</td>\n",
       "    </tr>\n",
       "    <tr>\n",
       "      <th>2</th>\n",
       "      <td>Credit purchase</td>\n",
       "      <td>107067</td>\n",
       "      <td>SUCCESS</td>\n",
       "      <td>482003SUYTIR3399</td>\n",
       "      <td>2021-05-17</td>\n",
       "      <td>206</td>\n",
       "      <td>AUD</td>\n",
       "      <td>67.0</td>\n",
       "      <td>NEXT DIRECTORY           \\INTERNET     \\GB</td>\n",
       "      <td>74697691189920000901120.0</td>\n",
       "      <td>2021-07-08</td>\n",
       "      <td>713314</td>\n",
       "      <td>NaN</td>\n",
       "      <td>1.0</td>\n",
       "    </tr>\n",
       "    <tr>\n",
       "      <th>3</th>\n",
       "      <td>Credit purchase</td>\n",
       "      <td>107066</td>\n",
       "      <td>SUCCESS</td>\n",
       "      <td>482003SUYTIR3399</td>\n",
       "      <td>2021-05-17</td>\n",
       "      <td>206</td>\n",
       "      <td>AUD</td>\n",
       "      <td>64.0</td>\n",
       "      <td>NEXT DIRECTORY           \\INTERNET     \\GB</td>\n",
       "      <td>74697691189920000901120.0</td>\n",
       "      <td>2021-07-08</td>\n",
       "      <td>713314</td>\n",
       "      <td>NaN</td>\n",
       "      <td>1.0</td>\n",
       "    </tr>\n",
       "    <tr>\n",
       "      <th>4</th>\n",
       "      <td>Purchase</td>\n",
       "      <td>105258</td>\n",
       "      <td>SUCCESS</td>\n",
       "      <td>482003VGLNRQ6502</td>\n",
       "      <td>2021-06-30</td>\n",
       "      <td>205</td>\n",
       "      <td>AUD</td>\n",
       "      <td>275.0</td>\n",
       "      <td>BATTERY WORLD GAWLER     \\GAWLER SOUTH \\AU</td>\n",
       "      <td>74564721182324799045632.0</td>\n",
       "      <td>2021-07-02</td>\n",
       "      <td>282186</td>\n",
       "      <td>958574586.0</td>\n",
       "      <td>1.0</td>\n",
       "    </tr>\n",
       "  </tbody>\n",
       "</table>\n",
       "</div>"
      ],
      "text/plain": [
       "        trans_type  trans_ref   status              ppan        cts  \\\n",
       "0  Credit purchase     107069  SUCCESS  482003SUYTIR3399 2021-05-17   \n",
       "1  Credit purchase     107068  SUCCESS  482003SUYTIR3399 2021-05-17   \n",
       "2  Credit purchase     107067  SUCCESS  482003SUYTIR3399 2021-05-17   \n",
       "3  Credit purchase     107066  SUCCESS  482003SUYTIR3399 2021-05-17   \n",
       "4         Purchase     105258  SUCCESS  482003VGLNRQ6502 2021-06-30   \n",
       "\n",
       "  trans_code currency  amount                                 description  \\\n",
       "0        206      AUD   251.0  NEXT DIRECTORY           \\INTERNET     \\GB   \n",
       "1        206      AUD   251.0  NEXT DIRECTORY           \\INTERNET     \\GB   \n",
       "2        206      AUD    67.0  NEXT DIRECTORY           \\INTERNET     \\GB   \n",
       "3        206      AUD    64.0  NEXT DIRECTORY           \\INTERNET     \\GB   \n",
       "4        205      AUD   275.0  BATTERY WORLD GAWLER     \\GAWLER SOUTH \\AU   \n",
       "\n",
       "               lodgement_ref  post_date approval_code  hold_number  \\\n",
       "0  74697691189920000901120.0 2021-07-08        713314          NaN   \n",
       "1  74697691189920000901120.0 2021-07-08        713314          NaN   \n",
       "2  74697691189920000901120.0 2021-07-08        713314          NaN   \n",
       "3  74697691189920000901120.0 2021-07-08        713314          NaN   \n",
       "4  74564721182324799045632.0 2021-07-02        282186  958574586.0   \n",
       "\n",
       "   exchange_rate  \n",
       "0            1.0  \n",
       "1            1.0  \n",
       "2            1.0  \n",
       "3            1.0  \n",
       "4            1.0  "
      ]
     },
     "execution_count": 10,
     "metadata": {},
     "output_type": "execute_result"
    }
   ],
   "source": [
    "df.head()"
   ]
  },
  {
   "cell_type": "code",
   "execution_count": 11,
   "id": "5d82dc4b",
   "metadata": {},
   "outputs": [
    {
     "data": {
      "text/plain": [
       "(94229, 14)"
      ]
     },
     "execution_count": 11,
     "metadata": {},
     "output_type": "execute_result"
    }
   ],
   "source": [
    "df.shape"
   ]
  },
  {
   "cell_type": "code",
   "execution_count": 12,
   "id": "168b4309",
   "metadata": {},
   "outputs": [],
   "source": [
    "df = df.fillna(df.mode().iloc[0])"
   ]
  },
  {
   "cell_type": "code",
   "execution_count": 13,
   "id": "ee6ffddf",
   "metadata": {},
   "outputs": [
    {
     "data": {
      "text/plain": [
       "count     94229.000000\n",
       "mean        177.166413\n",
       "std        1281.274306\n",
       "min          -2.000000\n",
       "25%          12.500000\n",
       "50%          40.000000\n",
       "75%         100.000000\n",
       "max      325105.000000\n",
       "Name: amount, dtype: float64"
      ]
     },
     "execution_count": 13,
     "metadata": {},
     "output_type": "execute_result"
    }
   ],
   "source": [
    "df.amount.describe()"
   ]
  },
  {
   "cell_type": "code",
   "execution_count": 14,
   "id": "5572e7ae",
   "metadata": {},
   "outputs": [
    {
     "data": {
      "text/plain": [
       "<AxesSubplot:ylabel='Frequency'>"
      ]
     },
     "execution_count": 14,
     "metadata": {},
     "output_type": "execute_result"
    },
    {
     "data": {
      "image/png": "[encoded data removed]",
      "text/plain": [
       "<Figure size 432x288 with 1 Axes>"
      ]
     },
     "metadata": {
      "needs_background": "light"
     },
     "output_type": "display_data"
    }
   ],
   "source": [
    "df.amount.plot(kind=\"hist\")"
   ]
  },
  {
   "cell_type": "code",
   "execution_count": 15,
   "id": "e2506a12",
   "metadata": {},
   "outputs": [],
   "source": [
    "df['time']= pd.to_datetime(df['cts'])"
   ]
  },
  {
   "cell_type": "code",
   "execution_count": 16,
   "id": "c3d004e1",
   "metadata": {},
   "outputs": [],
   "source": [
    "df[\"month\"]=df['time'].dt.month"
   ]
  },
  {
   "cell_type": "code",
   "execution_count": 17,
   "id": "c5fb222e",
   "metadata": {},
   "outputs": [
    {
     "data": {
      "text/html": [
       "<div>\n",
       "<style scoped>\n",
       "    .dataframe tbody tr th:only-of-type {\n",
       "        vertical-align: middle;\n",
       "    }\n",
       "\n",
       "    .dataframe tbody tr th {\n",
       "        vertical-align: top;\n",
       "    }\n",
       "\n",
       "    .dataframe thead th {\n",
       "        text-align: right;\n",
       "    }\n",
       "</style>\n",
       "<table border=\"1\" class=\"dataframe\">\n",
       "  <thead>\n",
       "    <tr style=\"text-align: right;\">\n",
       "      <th></th>\n",
       "      <th>trans_type</th>\n",
       "      <th>trans_ref</th>\n",
       "      <th>status</th>\n",
       "      <th>ppan</th>\n",
       "      <th>cts</th>\n",
       "      <th>trans_code</th>\n",
       "      <th>currency</th>\n",
       "      <th>amount</th>\n",
       "      <th>description</th>\n",
       "      <th>lodgement_ref</th>\n",
       "      <th>post_date</th>\n",
       "      <th>approval_code</th>\n",
       "      <th>hold_number</th>\n",
       "      <th>exchange_rate</th>\n",
       "      <th>time</th>\n",
       "      <th>month</th>\n",
       "    </tr>\n",
       "  </thead>\n",
       "  <tbody>\n",
       "    <tr>\n",
       "      <th>0</th>\n",
       "      <td>Credit purchase</td>\n",
       "      <td>107069</td>\n",
       "      <td>SUCCESS</td>\n",
       "      <td>482003SUYTIR3399</td>\n",
       "      <td>2021-05-17</td>\n",
       "      <td>206</td>\n",
       "      <td>AUD</td>\n",
       "      <td>251.0</td>\n",
       "      <td>NEXT DIRECTORY           \\INTERNET     \\GB</td>\n",
       "      <td>74697691189920000901120.0</td>\n",
       "      <td>2021-07-08</td>\n",
       "      <td>713314</td>\n",
       "      <td>928991432.0</td>\n",
       "      <td>1.0</td>\n",
       "      <td>2021-05-17</td>\n",
       "      <td>5</td>\n",
       "    </tr>\n",
       "    <tr>\n",
       "      <th>1</th>\n",
       "      <td>Credit purchase</td>\n",
       "      <td>107068</td>\n",
       "      <td>SUCCESS</td>\n",
       "      <td>482003SUYTIR3399</td>\n",
       "      <td>2021-05-17</td>\n",
       "      <td>206</td>\n",
       "      <td>AUD</td>\n",
       "      <td>251.0</td>\n",
       "      <td>NEXT DIRECTORY           \\INTERNET     \\GB</td>\n",
       "      <td>74697691189920000901120.0</td>\n",
       "      <td>2021-07-08</td>\n",
       "      <td>713314</td>\n",
       "      <td>928991432.0</td>\n",
       "      <td>1.0</td>\n",
       "      <td>2021-05-17</td>\n",
       "      <td>5</td>\n",
       "    </tr>\n",
       "    <tr>\n",
       "      <th>2</th>\n",
       "      <td>Credit purchase</td>\n",
       "      <td>107067</td>\n",
       "      <td>SUCCESS</td>\n",
       "      <td>482003SUYTIR3399</td>\n",
       "      <td>2021-05-17</td>\n",
       "      <td>206</td>\n",
       "      <td>AUD</td>\n",
       "      <td>67.0</td>\n",
       "      <td>NEXT DIRECTORY           \\INTERNET     \\GB</td>\n",
       "      <td>74697691189920000901120.0</td>\n",
       "      <td>2021-07-08</td>\n",
       "      <td>713314</td>\n",
       "      <td>928991432.0</td>\n",
       "      <td>1.0</td>\n",
       "      <td>2021-05-17</td>\n",
       "      <td>5</td>\n",
       "    </tr>\n",
       "    <tr>\n",
       "      <th>3</th>\n",
       "      <td>Credit purchase</td>\n",
       "      <td>107066</td>\n",
       "      <td>SUCCESS</td>\n",
       "      <td>482003SUYTIR3399</td>\n",
       "      <td>2021-05-17</td>\n",
       "      <td>206</td>\n",
       "      <td>AUD</td>\n",
       "      <td>64.0</td>\n",
       "      <td>NEXT DIRECTORY           \\INTERNET     \\GB</td>\n",
       "      <td>74697691189920000901120.0</td>\n",
       "      <td>2021-07-08</td>\n",
       "      <td>713314</td>\n",
       "      <td>928991432.0</td>\n",
       "      <td>1.0</td>\n",
       "      <td>2021-05-17</td>\n",
       "      <td>5</td>\n",
       "    </tr>\n",
       "    <tr>\n",
       "      <th>4</th>\n",
       "      <td>Purchase</td>\n",
       "      <td>105258</td>\n",
       "      <td>SUCCESS</td>\n",
       "      <td>482003VGLNRQ6502</td>\n",
       "      <td>2021-06-30</td>\n",
       "      <td>205</td>\n",
       "      <td>AUD</td>\n",
       "      <td>275.0</td>\n",
       "      <td>BATTERY WORLD GAWLER     \\GAWLER SOUTH \\AU</td>\n",
       "      <td>74564721182324799045632.0</td>\n",
       "      <td>2021-07-02</td>\n",
       "      <td>282186</td>\n",
       "      <td>958574586.0</td>\n",
       "      <td>1.0</td>\n",
       "      <td>2021-06-30</td>\n",
       "      <td>6</td>\n",
       "    </tr>\n",
       "  </tbody>\n",
       "</table>\n",
       "</div>"
      ],
      "text/plain": [
       "        trans_type  trans_ref   status              ppan        cts  \\\n",
       "0  Credit purchase     107069  SUCCESS  482003SUYTIR3399 2021-05-17   \n",
       "1  Credit purchase     107068  SUCCESS  482003SUYTIR3399 2021-05-17   \n",
       "2  Credit purchase     107067  SUCCESS  482003SUYTIR3399 2021-05-17   \n",
       "3  Credit purchase     107066  SUCCESS  482003SUYTIR3399 2021-05-17   \n",
       "4         Purchase     105258  SUCCESS  482003VGLNRQ6502 2021-06-30   \n",
       "\n",
       "  trans_code currency  amount                                 description  \\\n",
       "0        206      AUD   251.0  NEXT DIRECTORY           \\INTERNET     \\GB   \n",
       "1        206      AUD   251.0  NEXT DIRECTORY           \\INTERNET     \\GB   \n",
       "2        206      AUD    67.0  NEXT DIRECTORY           \\INTERNET     \\GB   \n",
       "3        206      AUD    64.0  NEXT DIRECTORY           \\INTERNET     \\GB   \n",
       "4        205      AUD   275.0  BATTERY WORLD GAWLER     \\GAWLER SOUTH \\AU   \n",
       "\n",
       "               lodgement_ref  post_date approval_code  hold_number  \\\n",
       "0  74697691189920000901120.0 2021-07-08        713314  928991432.0   \n",
       "1  74697691189920000901120.0 2021-07-08        713314  928991432.0   \n",
       "2  74697691189920000901120.0 2021-07-08        713314  928991432.0   \n",
       "3  74697691189920000901120.0 2021-07-08        713314  928991432.0   \n",
       "4  74564721182324799045632.0 2021-07-02        282186  958574586.0   \n",
       "\n",
       "   exchange_rate       time  month  \n",
       "0            1.0 2021-05-17      5  \n",
       "1            1.0 2021-05-17      5  \n",
       "2            1.0 2021-05-17      5  \n",
       "3            1.0 2021-05-17      5  \n",
       "4            1.0 2021-06-30      6  "
      ]
     },
     "execution_count": 17,
     "metadata": {},
     "output_type": "execute_result"
    }
   ],
   "source": [
    "df.head()"
   ]
  },
  {
   "cell_type": "code",
   "execution_count": 18,
   "id": "4110ed84",
   "metadata": {},
   "outputs": [
    {
     "data": {
      "text/plain": [
       "<AxesSubplot:xlabel='month', ylabel='count'>"
      ]
     },
     "execution_count": 18,
     "metadata": {},
     "output_type": "execute_result"
    },
    {
     "data": {
      "image/png": "[encoded data removed]",
      "text/plain": [
       "<Figure size 432x288 with 1 Axes>"
      ]
     },
     "metadata": {
      "needs_background": "light"
     },
     "output_type": "display_data"
    }
   ],
   "source": [
    "sns.countplot(df['month'])"
   ]
  },
  {
   "cell_type": "code",
   "execution_count": 19,
   "id": "70677195",
   "metadata": {},
   "outputs": [
    {
     "name": "stdout",
     "output_type": "stream",
     "text": [
      "   month  Total amount\n",
      "0      4   2509825.662\n",
      "1      5   2351374.944\n",
      "2      3   1910228.222\n",
      "3     11   1762012.860\n",
      "4     12   1361509.295\n",
      "5     10   1175249.980\n",
      "6      2   1084722.504\n",
      "7      1    741654.835\n",
      "8      9    382944.100\n",
      "9      8    339317.610\n"
     ]
    }
   ],
   "source": [
    "amount = df.groupby('month')['amount'].sum()\n",
    "amount = amount.sort_values(ascending=False)\n",
    "month = amount[1:11].index\n",
    "\n",
    "amount = amount[1:11].values \n",
    "\n",
    "\n",
    "\n",
    "data = pd.DataFrame({'month': month, 'Total amount': amount})\n",
    "print(data)"
   ]
  },
  {
   "cell_type": "code",
   "execution_count": 20,
   "id": "ebf30969",
   "metadata": {},
   "outputs": [
    {
     "data": {
      "text/plain": [
       "Text(0.5, 1.0, 'Amount of transaction happening each month')"
      ]
     },
     "execution_count": 20,
     "metadata": {},
     "output_type": "execute_result"
    },
    {
     "data": {
      "image/png": "[encoded data removed]",
      "text/plain": [
       "<Figure size 1080x432 with 1 Axes>"
      ]
     },
     "metadata": {
      "needs_background": "light"
     },
     "output_type": "display_data"
    }
   ],
   "source": [
    "plt.figure(figsize=(15,6))\n",
    "sns.barplot(x=\"month\", y=\"Total amount\", data=data)\n",
    "plt.title(\"Amount of transaction happening each month\")"
   ]
  },
  {
   "cell_type": "code",
   "execution_count": 21,
   "id": "a0d25d90",
   "metadata": {},
   "outputs": [
    {
     "name": "stdout",
     "output_type": "stream",
     "text": [
      "   day  Total amount\n",
      "0   22    760827.231\n",
      "1    3    751537.820\n",
      "2    4    660640.900\n",
      "3   24    657937.840\n",
      "4   29    641028.020\n",
      "5   11    614465.532\n",
      "6   19    608272.110\n",
      "7   10    579313.867\n",
      "8   16    576490.472\n",
      "9   23    569922.550\n"
     ]
    }
   ],
   "source": [
    "df[\"day\"]=df['time'].dt.day\n",
    "\n",
    "\n",
    "amount = df.groupby('day')['amount'].sum()\n",
    "amount = amount.sort_values(ascending=False)\n",
    "day = amount[1:11].index\n",
    "\n",
    "amount = amount[1:11].values \n",
    "\n",
    "\n",
    "\n",
    "data = pd.DataFrame({'day': day, 'Total amount': amount})\n",
    "print(data)"
   ]
  },
  {
   "cell_type": "code",
   "execution_count": 22,
   "id": "13d3ba90",
   "metadata": {},
   "outputs": [
    {
     "data": {
      "text/plain": [
       "Text(0.5, 1.0, 'Amount of transaction happening each day')"
      ]
     },
     "execution_count": 22,
     "metadata": {},
     "output_type": "execute_result"
    },
    {
     "data": {
      "image/png": "[encoded data removed]",
      "text/plain": [
       "<Figure size 1080x432 with 1 Axes>"
      ]
     },
     "metadata": {
      "needs_background": "light"
     },
     "output_type": "display_data"
    }
   ],
   "source": [
    "plt.figure(figsize=(15,6))\n",
    "sns.barplot(x=\"day\", y=\"Total amount\", data=data)\n",
    "plt.title(\"Amount of transaction happening each day\")"
   ]
  },
  {
   "cell_type": "code",
   "execution_count": 23,
   "id": "c58cb959",
   "metadata": {},
   "outputs": [],
   "source": [
    "Month= []\n",
    "\n",
    "for i in df['month']:\n",
    "  if (i == 1 or i==2 or i == 8 or i==9):\n",
    "    Month.append(\"Anomaly\")\n",
    "\n",
    "  else:\n",
    "    Month.append(\"not anomaly\")"
   ]
  },
  {
   "cell_type": "code",
   "execution_count": 24,
   "id": "e0e48b77",
   "metadata": {},
   "outputs": [],
   "source": [
    "df['Month'] = Month"
   ]
  },
  {
   "cell_type": "code",
   "execution_count": 25,
   "id": "6baee21e",
   "metadata": {},
   "outputs": [],
   "source": [
    "df=df.drop(['cts','time','post_date'], axis = 1)"
   ]
  },
  {
   "cell_type": "code",
   "execution_count": 26,
   "id": "260f0623",
   "metadata": {},
   "outputs": [],
   "source": [
    "for col_name in df.columns:\n",
    "    if(df[col_name].dtype == 'object'):\n",
    "        df[col_name]= df[col_name].astype('category')\n",
    "        df[col_name] = df[col_name].cat.codes"
   ]
  },
  {
   "cell_type": "code",
   "execution_count": 27,
   "id": "45ca97d2",
   "metadata": {},
   "outputs": [],
   "source": [
    "features = df.loc[:, df.columns != 'Month']\n",
    "target= df['Month'] \n",
    " \n",
    "from sklearn.model_selection import train_test_split\n",
    "X_train, X_test, y_train, y_test= train_test_split(features,target,test_size=0.3, random_state=0, stratify=df.Month)"
   ]
  },
  {
   "cell_type": "code",
   "execution_count": 28,
   "id": "4dba6576",
   "metadata": {},
   "outputs": [
    {
     "data": {
      "text/html": [
       "<div>\n",
       "<style scoped>\n",
       "    .dataframe tbody tr th:only-of-type {\n",
       "        vertical-align: middle;\n",
       "    }\n",
       "\n",
       "    .dataframe tbody tr th {\n",
       "        vertical-align: top;\n",
       "    }\n",
       "\n",
       "    .dataframe thead th {\n",
       "        text-align: right;\n",
       "    }\n",
       "</style>\n",
       "<table border=\"1\" class=\"dataframe\">\n",
       "  <thead>\n",
       "    <tr style=\"text-align: right;\">\n",
       "      <th></th>\n",
       "      <th>trans_type</th>\n",
       "      <th>trans_ref</th>\n",
       "      <th>status</th>\n",
       "      <th>ppan</th>\n",
       "      <th>trans_code</th>\n",
       "      <th>currency</th>\n",
       "      <th>amount</th>\n",
       "      <th>description</th>\n",
       "      <th>lodgement_ref</th>\n",
       "      <th>approval_code</th>\n",
       "      <th>hold_number</th>\n",
       "      <th>exchange_rate</th>\n",
       "      <th>month</th>\n",
       "      <th>day</th>\n",
       "    </tr>\n",
       "  </thead>\n",
       "  <tbody>\n",
       "    <tr>\n",
       "      <th>38115</th>\n",
       "      <td>2</td>\n",
       "      <td>56346</td>\n",
       "      <td>3</td>\n",
       "      <td>2036</td>\n",
       "      <td>1</td>\n",
       "      <td>1</td>\n",
       "      <td>1500.00</td>\n",
       "      <td>11190</td>\n",
       "      <td>954</td>\n",
       "      <td>0</td>\n",
       "      <td>928991432.0</td>\n",
       "      <td>1.0</td>\n",
       "      <td>3</td>\n",
       "      <td>18</td>\n",
       "    </tr>\n",
       "    <tr>\n",
       "      <th>73940</th>\n",
       "      <td>10</td>\n",
       "      <td>20461</td>\n",
       "      <td>3</td>\n",
       "      <td>225</td>\n",
       "      <td>4</td>\n",
       "      <td>1</td>\n",
       "      <td>70.97</td>\n",
       "      <td>6132</td>\n",
       "      <td>19844</td>\n",
       "      <td>9431</td>\n",
       "      <td>830013431.0</td>\n",
       "      <td>1.0</td>\n",
       "      <td>10</td>\n",
       "      <td>29</td>\n",
       "    </tr>\n",
       "    <tr>\n",
       "      <th>85912</th>\n",
       "      <td>10</td>\n",
       "      <td>8489</td>\n",
       "      <td>3</td>\n",
       "      <td>2211</td>\n",
       "      <td>4</td>\n",
       "      <td>1</td>\n",
       "      <td>76.55</td>\n",
       "      <td>3307</td>\n",
       "      <td>23769</td>\n",
       "      <td>66875</td>\n",
       "      <td>776725017.0</td>\n",
       "      <td>1.0</td>\n",
       "      <td>8</td>\n",
       "      <td>11</td>\n",
       "    </tr>\n",
       "    <tr>\n",
       "      <th>27792</th>\n",
       "      <td>10</td>\n",
       "      <td>66669</td>\n",
       "      <td>3</td>\n",
       "      <td>2953</td>\n",
       "      <td>4</td>\n",
       "      <td>1</td>\n",
       "      <td>266.94</td>\n",
       "      <td>7908</td>\n",
       "      <td>7444</td>\n",
       "      <td>4785</td>\n",
       "      <td>929423028.0</td>\n",
       "      <td>1.0</td>\n",
       "      <td>4</td>\n",
       "      <td>16</td>\n",
       "    </tr>\n",
       "    <tr>\n",
       "      <th>80624</th>\n",
       "      <td>10</td>\n",
       "      <td>13777</td>\n",
       "      <td>3</td>\n",
       "      <td>2596</td>\n",
       "      <td>4</td>\n",
       "      <td>1</td>\n",
       "      <td>251.40</td>\n",
       "      <td>13460</td>\n",
       "      <td>21747</td>\n",
       "      <td>17965</td>\n",
       "      <td>807427255.0</td>\n",
       "      <td>1.0</td>\n",
       "      <td>9</td>\n",
       "      <td>26</td>\n",
       "    </tr>\n",
       "    <tr>\n",
       "      <th>...</th>\n",
       "      <td>...</td>\n",
       "      <td>...</td>\n",
       "      <td>...</td>\n",
       "      <td>...</td>\n",
       "      <td>...</td>\n",
       "      <td>...</td>\n",
       "      <td>...</td>\n",
       "      <td>...</td>\n",
       "      <td>...</td>\n",
       "      <td>...</td>\n",
       "      <td>...</td>\n",
       "      <td>...</td>\n",
       "      <td>...</td>\n",
       "      <td>...</td>\n",
       "    </tr>\n",
       "    <tr>\n",
       "      <th>8037</th>\n",
       "      <td>10</td>\n",
       "      <td>96707</td>\n",
       "      <td>3</td>\n",
       "      <td>505</td>\n",
       "      <td>4</td>\n",
       "      <td>1</td>\n",
       "      <td>205.00</td>\n",
       "      <td>11360</td>\n",
       "      <td>2349</td>\n",
       "      <td>48664</td>\n",
       "      <td>950116820.0</td>\n",
       "      <td>1.0</td>\n",
       "      <td>6</td>\n",
       "      <td>10</td>\n",
       "    </tr>\n",
       "    <tr>\n",
       "      <th>6317</th>\n",
       "      <td>2</td>\n",
       "      <td>98427</td>\n",
       "      <td>3</td>\n",
       "      <td>2035</td>\n",
       "      <td>1</td>\n",
       "      <td>1</td>\n",
       "      <td>654.25</td>\n",
       "      <td>16303</td>\n",
       "      <td>1843</td>\n",
       "      <td>0</td>\n",
       "      <td>928991432.0</td>\n",
       "      <td>1.0</td>\n",
       "      <td>6</td>\n",
       "      <td>16</td>\n",
       "    </tr>\n",
       "    <tr>\n",
       "      <th>87598</th>\n",
       "      <td>10</td>\n",
       "      <td>6632</td>\n",
       "      <td>3</td>\n",
       "      <td>2694</td>\n",
       "      <td>4</td>\n",
       "      <td>1</td>\n",
       "      <td>45.00</td>\n",
       "      <td>20819</td>\n",
       "      <td>24433</td>\n",
       "      <td>32776</td>\n",
       "      <td>765831188.0</td>\n",
       "      <td>1.0</td>\n",
       "      <td>7</td>\n",
       "      <td>23</td>\n",
       "    </tr>\n",
       "    <tr>\n",
       "      <th>6127</th>\n",
       "      <td>10</td>\n",
       "      <td>98617</td>\n",
       "      <td>3</td>\n",
       "      <td>150</td>\n",
       "      <td>4</td>\n",
       "      <td>1</td>\n",
       "      <td>2.50</td>\n",
       "      <td>5203</td>\n",
       "      <td>1786</td>\n",
       "      <td>38392</td>\n",
       "      <td>945664376.0</td>\n",
       "      <td>1.0</td>\n",
       "      <td>5</td>\n",
       "      <td>28</td>\n",
       "    </tr>\n",
       "    <tr>\n",
       "      <th>57548</th>\n",
       "      <td>10</td>\n",
       "      <td>36853</td>\n",
       "      <td>3</td>\n",
       "      <td>776</td>\n",
       "      <td>4</td>\n",
       "      <td>1</td>\n",
       "      <td>23.99</td>\n",
       "      <td>20819</td>\n",
       "      <td>16094</td>\n",
       "      <td>66314</td>\n",
       "      <td>861568777.0</td>\n",
       "      <td>1.0</td>\n",
       "      <td>12</td>\n",
       "      <td>14</td>\n",
       "    </tr>\n",
       "  </tbody>\n",
       "</table>\n",
       "<p>65960 rows × 14 columns</p>\n",
       "</div>"
      ],
      "text/plain": [
       "       trans_type  trans_ref  status  ppan  trans_code  currency   amount  \\\n",
       "38115           2      56346       3  2036           1         1  1500.00   \n",
       "73940          10      20461       3   225           4         1    70.97   \n",
       "85912          10       8489       3  2211           4         1    76.55   \n",
       "27792          10      66669       3  2953           4         1   266.94   \n",
       "80624          10      13777       3  2596           4         1   251.40   \n",
       "...           ...        ...     ...   ...         ...       ...      ...   \n",
       "8037           10      96707       3   505           4         1   205.00   \n",
       "6317            2      98427       3  2035           1         1   654.25   \n",
       "87598          10       6632       3  2694           4         1    45.00   \n",
       "6127           10      98617       3   150           4         1     2.50   \n",
       "57548          10      36853       3   776           4         1    23.99   \n",
       "\n",
       "       description  lodgement_ref  approval_code  hold_number  exchange_rate  \\\n",
       "38115        11190            954              0  928991432.0            1.0   \n",
       "73940         6132          19844           9431  830013431.0            1.0   \n",
       "85912         3307          23769          66875  776725017.0            1.0   \n",
       "27792         7908           7444           4785  929423028.0            1.0   \n",
       "80624        13460          21747          17965  807427255.0            1.0   \n",
       "...            ...            ...            ...          ...            ...   \n",
       "8037         11360           2349          48664  950116820.0            1.0   \n",
       "6317         16303           1843              0  928991432.0            1.0   \n",
       "87598        20819          24433          32776  765831188.0            1.0   \n",
       "6127          5203           1786          38392  945664376.0            1.0   \n",
       "57548        20819          16094          66314  861568777.0            1.0   \n",
       "\n",
       "       month  day  \n",
       "38115      3   18  \n",
       "73940     10   29  \n",
       "85912      8   11  \n",
       "27792      4   16  \n",
       "80624      9   26  \n",
       "...      ...  ...  \n",
       "8037       6   10  \n",
       "6317       6   16  \n",
       "87598      7   23  \n",
       "6127       5   28  \n",
       "57548     12   14  \n",
       "\n",
       "[65960 rows x 14 columns]"
      ]
     },
     "execution_count": 28,
     "metadata": {},
     "output_type": "execute_result"
    }
   ],
   "source": [
    "X_train"
   ]
  },
  {
   "cell_type": "code",
   "execution_count": 29,
   "id": "22aa264d",
   "metadata": {},
   "outputs": [],
   "source": [
    "from sklearn.preprocessing import MinMaxScaler\n",
    "\n",
    "scaler = MinMaxScaler()\n",
    "X_train = scaler.fit_transform(X_train)\n",
    "X_test = scaler.transform(X_test)"
   ]
  },
  {
   "cell_type": "code",
   "execution_count": 30,
   "id": "a75e51bf",
   "metadata": {},
   "outputs": [],
   "source": [
    "from sklearn.tree import DecisionTreeClassifier"
   ]
  },
  {
   "cell_type": "code",
   "execution_count": 31,
   "id": "99bd7729",
   "metadata": {},
   "outputs": [],
   "source": [
    "decision_tree = DecisionTreeClassifier()\n",
    "model = decision_tree.fit(X_train, y_train)\n"
   ]
  },
  {
   "cell_type": "code",
   "execution_count": 32,
   "id": "46958233",
   "metadata": {},
   "outputs": [],
   "source": [
    "pred=model.predict(X_test)\n",
    "\n",
    "from sklearn.metrics import classification_report"
   ]
  },
  {
   "cell_type": "code",
   "execution_count": 52,
   "id": "c5808941",
   "metadata": {},
   "outputs": [
    {
     "data": {
      "text/plain": [
       "27684    1\n",
       "74597    1\n",
       "31906    1\n",
       "51175    0\n",
       "25692    1\n",
       "        ..\n",
       "73766    1\n",
       "75947    1\n",
       "64043    1\n",
       "45083    0\n",
       "88256    1\n",
       "Name: Month, Length: 28269, dtype: int8"
      ]
     },
     "execution_count": 52,
     "metadata": {},
     "output_type": "execute_result"
    }
   ],
   "source": [
    "y_test"
   ]
  },
  {
   "cell_type": "code",
   "execution_count": 53,
   "id": "04d2ec15",
   "metadata": {},
   "outputs": [
    {
     "name": "stdout",
     "output_type": "stream",
     "text": [
      "              precision    recall  f1-score   support\n",
      "\n",
      "           0       1.00      1.00      1.00      5563\n",
      "           1       1.00      1.00      1.00     22706\n",
      "\n",
      "    accuracy                           1.00     28269\n",
      "   macro avg       1.00      1.00      1.00     28269\n",
      "weighted avg       1.00      1.00      1.00     28269\n",
      "\n"
     ]
    }
   ],
   "source": [
    "print(classification_report(pred,y_test))"
   ]
  },
  {
   "cell_type": "code",
   "execution_count": 34,
   "id": "5d72601e",
   "metadata": {},
   "outputs": [
    {
     "data": {
      "text/plain": [
       "array([1, 1, 1, ..., 1, 0, 1], dtype=int8)"
      ]
     },
     "execution_count": 34,
     "metadata": {},
     "output_type": "execute_result"
    }
   ],
   "source": [
    "pred"
   ]
  },
  {
   "cell_type": "code",
   "execution_count": 75,
   "id": "7b6082f1",
   "metadata": {},
   "outputs": [],
   "source": [
    "X_pred = pd.DataFrame()"
   ]
  },
  {
   "cell_type": "code",
   "execution_count": 76,
   "id": "0f3f58e7",
   "metadata": {},
   "outputs": [],
   "source": [
    "X_pred['real']=y_test.values"
   ]
  },
  {
   "cell_type": "code",
   "execution_count": 77,
   "id": "f121a8f9",
   "metadata": {},
   "outputs": [],
   "source": [
    "X_pred['pred']=pred"
   ]
  },
  {
   "cell_type": "code",
   "execution_count": 78,
   "id": "5c7fa5f7",
   "metadata": {},
   "outputs": [
    {
     "data": {
      "text/html": [
       "<div>\n",
       "<style scoped>\n",
       "    .dataframe tbody tr th:only-of-type {\n",
       "        vertical-align: middle;\n",
       "    }\n",
       "\n",
       "    .dataframe tbody tr th {\n",
       "        vertical-align: top;\n",
       "    }\n",
       "\n",
       "    .dataframe thead th {\n",
       "        text-align: right;\n",
       "    }\n",
       "</style>\n",
       "<table border=\"1\" class=\"dataframe\">\n",
       "  <thead>\n",
       "    <tr style=\"text-align: right;\">\n",
       "      <th></th>\n",
       "      <th>real</th>\n",
       "      <th>pred</th>\n",
       "    </tr>\n",
       "  </thead>\n",
       "  <tbody>\n",
       "    <tr>\n",
       "      <th>0</th>\n",
       "      <td>1</td>\n",
       "      <td>1</td>\n",
       "    </tr>\n",
       "    <tr>\n",
       "      <th>1</th>\n",
       "      <td>1</td>\n",
       "      <td>1</td>\n",
       "    </tr>\n",
       "    <tr>\n",
       "      <th>2</th>\n",
       "      <td>1</td>\n",
       "      <td>1</td>\n",
       "    </tr>\n",
       "    <tr>\n",
       "      <th>3</th>\n",
       "      <td>0</td>\n",
       "      <td>0</td>\n",
       "    </tr>\n",
       "    <tr>\n",
       "      <th>4</th>\n",
       "      <td>1</td>\n",
       "      <td>1</td>\n",
       "    </tr>\n",
       "  </tbody>\n",
       "</table>\n",
       "</div>"
      ],
      "text/plain": [
       "   real  pred\n",
       "0     1     1\n",
       "1     1     1\n",
       "2     1     1\n",
       "3     0     0\n",
       "4     1     1"
      ]
     },
     "execution_count": 78,
     "metadata": {},
     "output_type": "execute_result"
    }
   ],
   "source": [
    "X_pred.head()"
   ]
  },
  {
   "cell_type": "code",
   "execution_count": 79,
   "id": "71b74f07",
   "metadata": {},
   "outputs": [
    {
     "data": {
      "text/plain": [
       "<AxesSubplot:xlabel='pred', ylabel='count'>"
      ]
     },
     "execution_count": 79,
     "metadata": {},
     "output_type": "execute_result"
    },
    {
     "data": {
      "image/png": "[encoded data removed]",
      "text/plain": [
       "<Figure size 432x288 with 1 Axes>"
      ]
     },
     "metadata": {
      "needs_background": "light"
     },
     "output_type": "display_data"
    }
   ],
   "source": [
    "sns.countplot(X_pred['pred'])"
   ]
  },
  {
   "cell_type": "code",
   "execution_count": null,
   "id": "bd2efad3",
   "metadata": {},
   "outputs": [],
   "source": [
    "# 0 is anomaly and 1 is not anomaly"
   ]
  },
  {
   "cell_type": "code",
   "execution_count": null,
   "id": "495c6ed3",
   "metadata": {},
   "outputs": [],
   "source": []
  }
 ],
 "metadata": {
  "kernelspec": {
   "display_name": "Python 3 (ipykernel)",
   "language": "python",
   "name": "python3"
  },
  "language_info": {
   "codemirror_mode": {
    "name": "ipython",
    "version": 3
   },
   "file_extension": ".py",
   "mimetype": "text/x-python",
   "name": "python",
   "nbconvert_exporter": "python",
   "pygments_lexer": "ipython3",
   "version": "3.8.8"
  }
 },
 "nbformat": 4,
 "nbformat_minor": 5
}
